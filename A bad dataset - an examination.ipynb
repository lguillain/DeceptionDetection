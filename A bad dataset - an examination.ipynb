{
 "cells": [
  {
   "cell_type": "markdown",
   "metadata": {},
   "source": [
    "# Dataset Analysis for Real life deception detection trial data"
   ]
  },
  {
   "cell_type": "code",
   "execution_count": 16,
   "metadata": {},
   "outputs": [],
   "source": [
    "import pandas as pd\n",
    "import seaborn as sns\n",
    "import matplotlib.pyplot as plt\n",
    "%matplotlib inline"
   ]
  },
  {
   "cell_type": "markdown",
   "metadata": {},
   "source": [
    "In the provided dataset, there is no easely accessible pre-parsed list of who is shown in which video. This is an issue as, to accurately train and test the model, we must ensure that the dataset is such that the same person does not occur in both train and test set, as this may lead to the model simply memorizing that persons face instead of generalizing and finding features indicating deception.\n",
    "\n",
    "I extracted the lists present the deceptive.txt an truthful.txt files from the readme file accompaning the dataset."
   ]
  },
  {
   "cell_type": "code",
   "execution_count": 90,
   "metadata": {},
   "outputs": [
    {
     "data": {
      "text/html": [
       "<div>\n",
       "<style>\n",
       "    .dataframe thead tr:only-child th {\n",
       "        text-align: right;\n",
       "    }\n",
       "\n",
       "    .dataframe thead th {\n",
       "        text-align: left;\n",
       "    }\n",
       "\n",
       "    .dataframe tbody tr th {\n",
       "        vertical-align: top;\n",
       "    }\n",
       "</style>\n",
       "<table border=\"1\" class=\"dataframe\">\n",
       "  <thead>\n",
       "    <tr style=\"text-align: right;\">\n",
       "      <th></th>\n",
       "      <th>level_2</th>\n",
       "      <th>lie/truth</th>\n",
       "      <th>video</th>\n",
       "    </tr>\n",
       "    <tr>\n",
       "      <th>level_1</th>\n",
       "      <th></th>\n",
       "      <th></th>\n",
       "      <th></th>\n",
       "    </tr>\n",
       "  </thead>\n",
       "  <tbody>\n",
       "    <tr>\n",
       "      <th>trial_lie_001.mp4</th>\n",
       "      <td>Defendant / Amanda Hayes</td>\n",
       "      <td>True</td>\n",
       "      <td>0</td>\n",
       "    </tr>\n",
       "    <tr>\n",
       "      <th>trial_lie_002.mp4</th>\n",
       "      <td>Defendant / Amanda Hayes</td>\n",
       "      <td>True</td>\n",
       "      <td>1</td>\n",
       "    </tr>\n",
       "    <tr>\n",
       "      <th>trial_lie_003.mp4</th>\n",
       "      <td>Defendant / Amanda Hayes</td>\n",
       "      <td>True</td>\n",
       "      <td>2</td>\n",
       "    </tr>\n",
       "    <tr>\n",
       "      <th>trial_lie_004.mp4</th>\n",
       "      <td>Defendant / Amanda Hayes</td>\n",
       "      <td>True</td>\n",
       "      <td>3</td>\n",
       "    </tr>\n",
       "    <tr>\n",
       "      <th>trial_lie_005.mp4</th>\n",
       "      <td>Defendant / Amanda Hayes</td>\n",
       "      <td>True</td>\n",
       "      <td>4</td>\n",
       "    </tr>\n",
       "  </tbody>\n",
       "</table>\n",
       "</div>"
      ],
      "text/plain": [
       "                                                              level_2  \\\n",
       "level_1                                                                 \n",
       " trial_lie_001.mp4    Defendant / Amanda Hayes                          \n",
       " trial_lie_002.mp4    Defendant / Amanda Hayes                          \n",
       " trial_lie_003.mp4    Defendant / Amanda Hayes                          \n",
       " trial_lie_004.mp4    Defendant / Amanda Hayes                          \n",
       " trial_lie_005.mp4    Defendant / Amanda Hayes                          \n",
       "\n",
       "                     lie/truth  video  \n",
       "level_1                                \n",
       " trial_lie_001.mp4        True      0  \n",
       " trial_lie_002.mp4        True      1  \n",
       " trial_lie_003.mp4        True      2  \n",
       " trial_lie_004.mp4        True      3  \n",
       " trial_lie_005.mp4        True      4  "
      ]
     },
     "execution_count": 90,
     "metadata": {},
     "output_type": "execute_result"
    }
   ],
   "source": [
    "names_deceptive = pd.read_table('deceptive.txt', sep='|').reset_index()[['level_1','level_2']].dropna()[1:].set_index('level_1')\n",
    "names_deceptive['lie/truth'] = True #True = person is telling the truth\n",
    "\n",
    "names_truthful = pd.read_table('truthful.txt', sep='|').reset_index()[['level_1','level_2']].dropna().set_index('level_1')\n",
    "names_truthful['lie/truth'] = False\n",
    "\n",
    "subjects = pd.concat([names_deceptive, names_truthful])\n",
    "subjects['video'] = range(0, 121) #index in list of videos\n",
    "\n",
    "subjects.head()"
   ]
  },
  {
   "cell_type": "markdown",
   "metadata": {},
   "source": [
    "As we can see, the title of the person is also present in the dataset. Further examination reveals that this obscures dublicates as people are present in the dataset under different titles multiple times, such as being defendant and witness (which, considering that those videos show the same person in samples tested, we assume to be the same person).\n",
    "\n",
    "Thus I remove the title:"
   ]
  },
  {
   "cell_type": "code",
   "execution_count": 91,
   "metadata": {},
   "outputs": [],
   "source": [
    "def get_name(x):\n",
    "    y= None\n",
    "    try:\n",
    "        y = x.split('/ ')[1].strip()\n",
    "        return y\n",
    "    except:\n",
    "        return x.strip()\n",
    "\n",
    "subjects.level_2 = subjects.level_2.map(get_name)"
   ]
  },
  {
   "cell_type": "code",
   "execution_count": 92,
   "metadata": {},
   "outputs": [
    {
     "data": {
      "text/html": [
       "<div>\n",
       "<style>\n",
       "    .dataframe thead tr:only-child th {\n",
       "        text-align: right;\n",
       "    }\n",
       "\n",
       "    .dataframe thead th {\n",
       "        text-align: left;\n",
       "    }\n",
       "\n",
       "    .dataframe tbody tr th {\n",
       "        vertical-align: top;\n",
       "    }\n",
       "</style>\n",
       "<table border=\"1\" class=\"dataframe\">\n",
       "  <thead>\n",
       "    <tr style=\"text-align: right;\">\n",
       "      <th></th>\n",
       "      <th>level_2</th>\n",
       "      <th>lie/truth</th>\n",
       "      <th>video</th>\n",
       "    </tr>\n",
       "    <tr>\n",
       "      <th>level_1</th>\n",
       "      <th></th>\n",
       "      <th></th>\n",
       "      <th></th>\n",
       "    </tr>\n",
       "  </thead>\n",
       "  <tbody>\n",
       "    <tr>\n",
       "      <th>trial_lie_001.mp4</th>\n",
       "      <td>Amanda Hayes</td>\n",
       "      <td>True</td>\n",
       "      <td>0</td>\n",
       "    </tr>\n",
       "    <tr>\n",
       "      <th>trial_lie_002.mp4</th>\n",
       "      <td>Amanda Hayes</td>\n",
       "      <td>True</td>\n",
       "      <td>1</td>\n",
       "    </tr>\n",
       "    <tr>\n",
       "      <th>trial_lie_003.mp4</th>\n",
       "      <td>Amanda Hayes</td>\n",
       "      <td>True</td>\n",
       "      <td>2</td>\n",
       "    </tr>\n",
       "    <tr>\n",
       "      <th>trial_lie_004.mp4</th>\n",
       "      <td>Amanda Hayes</td>\n",
       "      <td>True</td>\n",
       "      <td>3</td>\n",
       "    </tr>\n",
       "    <tr>\n",
       "      <th>trial_lie_005.mp4</th>\n",
       "      <td>Amanda Hayes</td>\n",
       "      <td>True</td>\n",
       "      <td>4</td>\n",
       "    </tr>\n",
       "  </tbody>\n",
       "</table>\n",
       "</div>"
      ],
      "text/plain": [
       "                          level_2  lie/truth  video\n",
       "level_1                                            \n",
       " trial_lie_001.mp4   Amanda Hayes       True      0\n",
       " trial_lie_002.mp4   Amanda Hayes       True      1\n",
       " trial_lie_003.mp4   Amanda Hayes       True      2\n",
       " trial_lie_004.mp4   Amanda Hayes       True      3\n",
       " trial_lie_005.mp4   Amanda Hayes       True      4"
      ]
     },
     "execution_count": 92,
     "metadata": {},
     "output_type": "execute_result"
    }
   ],
   "source": [
    "subjects.head()"
   ]
  },
  {
   "cell_type": "code",
   "execution_count": 93,
   "metadata": {},
   "outputs": [],
   "source": [
    "values_counts = subjects.level_2.value_counts()"
   ]
  },
  {
   "cell_type": "code",
   "execution_count": 94,
   "metadata": {},
   "outputs": [
    {
     "data": {
      "text/plain": [
       "<matplotlib.text.Text at 0x1a1688b550>"
      ]
     },
     "execution_count": 94,
     "metadata": {},
     "output_type": "execute_result"
    },
    {
     "data": {
      "image/png": "[encoded data removed]",
      "text/plain": [
       "<matplotlib.figure.Figure at 0x1a16862160>"
      ]
     },
     "metadata": {},
     "output_type": "display_data"
    }
   ],
   "source": [
    "plt.figure(figsize=(10, 5))\n",
    "sns.barplot(y=values_counts.tolist(), x=values_counts.index.tolist())\n",
    "plt.xticks([])\n",
    "plt.ylabel('Occurences in Dataset')\n",
    "plt.xlabel('Individual')"
   ]
  },
  {
   "cell_type": "code",
   "execution_count": 95,
   "metadata": {},
   "outputs": [
    {
     "data": {
      "text/plain": [
       "Jodi Arias           33\n",
       "Andrea Sneiderman    12\n",
       "Amanda Hayes          9\n",
       "Bessman Okafor        8\n",
       "Crystal Mangum        6\n",
       "Name: level_2, dtype: int64"
      ]
     },
     "execution_count": 95,
     "metadata": {},
     "output_type": "execute_result"
    }
   ],
   "source": [
    "values_counts.head()"
   ]
  },
  {
   "cell_type": "code",
   "execution_count": 96,
   "metadata": {},
   "outputs": [
    {
     "data": {
      "text/plain": [
       "32"
      ]
     },
     "execution_count": 96,
     "metadata": {},
     "output_type": "execute_result"
    }
   ],
   "source": [
    "len(values_counts)"
   ]
  },
  {
   "cell_type": "markdown",
   "metadata": {},
   "source": [
    "As one can observe, depsite the dataset containing 121 videos, it only has 32 distinct people appear, and out of which, one participant accounts for more than $1/4$ of the videos in the dataset. "
   ]
  },
  {
   "cell_type": "markdown",
   "metadata": {},
   "source": [
    "Now, further investigating the samples, we look at them with respect to wether they are supposed to show truth or deception."
   ]
  },
  {
   "cell_type": "code",
   "execution_count": 97,
   "metadata": {},
   "outputs": [
    {
     "data": {
      "text/html": [
       "<div>\n",
       "<style>\n",
       "    .dataframe thead tr:only-child th {\n",
       "        text-align: right;\n",
       "    }\n",
       "\n",
       "    .dataframe thead th {\n",
       "        text-align: left;\n",
       "    }\n",
       "\n",
       "    .dataframe tbody tr th {\n",
       "        vertical-align: top;\n",
       "    }\n",
       "</style>\n",
       "<table border=\"1\" class=\"dataframe\">\n",
       "  <thead>\n",
       "    <tr style=\"text-align: right;\">\n",
       "      <th></th>\n",
       "      <th></th>\n",
       "      <th>occurences</th>\n",
       "    </tr>\n",
       "    <tr>\n",
       "      <th>level_2</th>\n",
       "      <th>lie/truth</th>\n",
       "      <th></th>\n",
       "    </tr>\n",
       "  </thead>\n",
       "  <tbody>\n",
       "    <tr>\n",
       "      <th>Alan Newton</th>\n",
       "      <th>False</th>\n",
       "      <td>1</td>\n",
       "    </tr>\n",
       "    <tr>\n",
       "      <th rowspan=\"2\" valign=\"top\">Amanda Hayes</th>\n",
       "      <th>True</th>\n",
       "      <td>6</td>\n",
       "    </tr>\n",
       "    <tr>\n",
       "      <th>False</th>\n",
       "      <td>3</td>\n",
       "    </tr>\n",
       "    <tr>\n",
       "      <th rowspan=\"2\" valign=\"top\">Andrea Sneiderman</th>\n",
       "      <th>True</th>\n",
       "      <td>7</td>\n",
       "    </tr>\n",
       "    <tr>\n",
       "      <th>False</th>\n",
       "      <td>5</td>\n",
       "    </tr>\n",
       "    <tr>\n",
       "      <th>Bessman Okafor</th>\n",
       "      <th>False</th>\n",
       "      <td>8</td>\n",
       "    </tr>\n",
       "    <tr>\n",
       "      <th>Candace Conti</th>\n",
       "      <th>True</th>\n",
       "      <td>3</td>\n",
       "    </tr>\n",
       "    <tr>\n",
       "      <th>Carlos Miller</th>\n",
       "      <th>True</th>\n",
       "      <td>4</td>\n",
       "    </tr>\n",
       "    <tr>\n",
       "      <th>Carlos Riley</th>\n",
       "      <th>False</th>\n",
       "      <td>1</td>\n",
       "    </tr>\n",
       "    <tr>\n",
       "      <th>Charles and Kimberly Matthews</th>\n",
       "      <th>False</th>\n",
       "      <td>5</td>\n",
       "    </tr>\n",
       "    <tr>\n",
       "      <th>Chris Ochoa</th>\n",
       "      <th>False</th>\n",
       "      <td>2</td>\n",
       "    </tr>\n",
       "    <tr>\n",
       "      <th rowspan=\"2\" valign=\"top\">Crystal Mangum</th>\n",
       "      <th>True</th>\n",
       "      <td>4</td>\n",
       "    </tr>\n",
       "    <tr>\n",
       "      <th>False</th>\n",
       "      <td>2</td>\n",
       "    </tr>\n",
       "    <tr>\n",
       "      <th rowspan=\"2\" valign=\"top\">Donna Scrivo</th>\n",
       "      <th>False</th>\n",
       "      <td>1</td>\n",
       "    </tr>\n",
       "    <tr>\n",
       "      <th>True</th>\n",
       "      <td>1</td>\n",
       "    </tr>\n",
       "    <tr>\n",
       "      <th>Dyches, Hall, and Hopkins trial</th>\n",
       "      <th>True</th>\n",
       "      <td>1</td>\n",
       "    </tr>\n",
       "    <tr>\n",
       "      <th>Edgar Collazo</th>\n",
       "      <th>False</th>\n",
       "      <td>1</td>\n",
       "    </tr>\n",
       "    <tr>\n",
       "      <th>Fernando Bermudez</th>\n",
       "      <th>False</th>\n",
       "      <td>2</td>\n",
       "    </tr>\n",
       "    <tr>\n",
       "      <th>James Boyd</th>\n",
       "      <th>False</th>\n",
       "      <td>4</td>\n",
       "    </tr>\n",
       "    <tr>\n",
       "      <th rowspan=\"2\" valign=\"top\">Jamie Hood</th>\n",
       "      <th>False</th>\n",
       "      <td>2</td>\n",
       "    </tr>\n",
       "    <tr>\n",
       "      <th>True</th>\n",
       "      <td>2</td>\n",
       "    </tr>\n",
       "    <tr>\n",
       "      <th rowspan=\"2\" valign=\"top\">Jodi Arias</th>\n",
       "      <th>True</th>\n",
       "      <td>22</td>\n",
       "    </tr>\n",
       "    <tr>\n",
       "      <th>False</th>\n",
       "      <td>11</td>\n",
       "    </tr>\n",
       "    <tr>\n",
       "      <th>Jonathan Santillan</th>\n",
       "      <th>False</th>\n",
       "      <td>1</td>\n",
       "    </tr>\n",
       "    <tr>\n",
       "      <th>Kelly Burke</th>\n",
       "      <th>True</th>\n",
       "      <td>1</td>\n",
       "    </tr>\n",
       "    <tr>\n",
       "      <th>Ken Wyniemko</th>\n",
       "      <th>False</th>\n",
       "      <td>2</td>\n",
       "    </tr>\n",
       "    <tr>\n",
       "      <th>Lance Armstrong</th>\n",
       "      <th>True</th>\n",
       "      <td>1</td>\n",
       "    </tr>\n",
       "    <tr>\n",
       "      <th>Marissa Devault</th>\n",
       "      <th>True</th>\n",
       "      <td>3</td>\n",
       "    </tr>\n",
       "    <tr>\n",
       "      <th>Martin Macneill</th>\n",
       "      <th>False</th>\n",
       "      <td>1</td>\n",
       "    </tr>\n",
       "    <tr>\n",
       "      <th>Marvin Anderson</th>\n",
       "      <th>False</th>\n",
       "      <td>1</td>\n",
       "    </tr>\n",
       "    <tr>\n",
       "      <th>Michael Dunn</th>\n",
       "      <th>True</th>\n",
       "      <td>1</td>\n",
       "    </tr>\n",
       "    <tr>\n",
       "      <th rowspan=\"2\" valign=\"top\">Mitchelle Blair</th>\n",
       "      <th>False</th>\n",
       "      <td>2</td>\n",
       "    </tr>\n",
       "    <tr>\n",
       "      <th>True</th>\n",
       "      <td>1</td>\n",
       "    </tr>\n",
       "    <tr>\n",
       "      <th>Owen Labrie</th>\n",
       "      <th>False</th>\n",
       "      <td>1</td>\n",
       "    </tr>\n",
       "    <tr>\n",
       "      <th>Randy Mills</th>\n",
       "      <th>False</th>\n",
       "      <td>1</td>\n",
       "    </tr>\n",
       "    <tr>\n",
       "      <th>Robert Dziekanski</th>\n",
       "      <th>True</th>\n",
       "      <td>3</td>\n",
       "    </tr>\n",
       "    <tr>\n",
       "      <th>Scott Peterson</th>\n",
       "      <th>True</th>\n",
       "      <td>1</td>\n",
       "    </tr>\n",
       "    <tr>\n",
       "      <th>Steven Barnes</th>\n",
       "      <th>False</th>\n",
       "      <td>1</td>\n",
       "    </tr>\n",
       "    <tr>\n",
       "      <th>The innocence project</th>\n",
       "      <th>False</th>\n",
       "      <td>2</td>\n",
       "    </tr>\n",
       "  </tbody>\n",
       "</table>\n",
       "</div>"
      ],
      "text/plain": [
       "                                           occurences\n",
       "level_2                         lie/truth            \n",
       "Alan Newton                     False               1\n",
       "Amanda Hayes                    True                6\n",
       "                                False               3\n",
       "Andrea Sneiderman               True                7\n",
       "                                False               5\n",
       "Bessman Okafor                  False               8\n",
       "Candace Conti                   True                3\n",
       "Carlos Miller                   True                4\n",
       "Carlos Riley                    False               1\n",
       "Charles and Kimberly Matthews   False               5\n",
       "Chris Ochoa                     False               2\n",
       "Crystal Mangum                  True                4\n",
       "                                False               2\n",
       "Donna Scrivo                    False               1\n",
       "                                True                1\n",
       "Dyches, Hall, and Hopkins trial True                1\n",
       "Edgar Collazo                   False               1\n",
       "Fernando Bermudez               False               2\n",
       "James Boyd                      False               4\n",
       "Jamie Hood                      False               2\n",
       "                                True                2\n",
       "Jodi Arias                      True               22\n",
       "                                False              11\n",
       "Jonathan Santillan              False               1\n",
       "Kelly Burke                     True                1\n",
       "Ken Wyniemko                    False               2\n",
       "Lance Armstrong                 True                1\n",
       "Marissa Devault                 True                3\n",
       "Martin Macneill                 False               1\n",
       "Marvin Anderson                 False               1\n",
       "Michael Dunn                    True                1\n",
       "Mitchelle Blair                 False               2\n",
       "                                True                1\n",
       "Owen Labrie                     False               1\n",
       "Randy Mills                     False               1\n",
       "Robert Dziekanski               True                3\n",
       "Scott Peterson                  True                1\n",
       "Steven Barnes                   False               1\n",
       "The innocence project           False               2"
      ]
     },
     "execution_count": 97,
     "metadata": {},
     "output_type": "execute_result"
    }
   ],
   "source": [
    "db = pd.DataFrame(subjects.groupby('level_2')['lie/truth'].value_counts())\n",
    "db.columns = ['occurences']\n",
    "db"
   ]
  },
  {
   "cell_type": "code",
   "execution_count": 99,
   "metadata": {},
   "outputs": [
    {
     "data": {
      "text/html": [
       "<div>\n",
       "<style>\n",
       "    .dataframe thead tr:only-child th {\n",
       "        text-align: right;\n",
       "    }\n",
       "\n",
       "    .dataframe thead th {\n",
       "        text-align: left;\n",
       "    }\n",
       "\n",
       "    .dataframe tbody tr th {\n",
       "        vertical-align: top;\n",
       "    }\n",
       "</style>\n",
       "<table border=\"1\" class=\"dataframe\">\n",
       "  <thead>\n",
       "    <tr style=\"text-align: right;\">\n",
       "      <th></th>\n",
       "      <th>level_2</th>\n",
       "      <th>lie/truth</th>\n",
       "      <th>video</th>\n",
       "    </tr>\n",
       "    <tr>\n",
       "      <th>level_1</th>\n",
       "      <th></th>\n",
       "      <th></th>\n",
       "      <th></th>\n",
       "    </tr>\n",
       "  </thead>\n",
       "  <tbody>\n",
       "    <tr>\n",
       "      <th>trial_lie_001.mp4</th>\n",
       "      <td>Amanda Hayes</td>\n",
       "      <td>True</td>\n",
       "      <td>0</td>\n",
       "    </tr>\n",
       "    <tr>\n",
       "      <th>trial_lie_002.mp4</th>\n",
       "      <td>Amanda Hayes</td>\n",
       "      <td>True</td>\n",
       "      <td>1</td>\n",
       "    </tr>\n",
       "    <tr>\n",
       "      <th>trial_lie_003.mp4</th>\n",
       "      <td>Amanda Hayes</td>\n",
       "      <td>True</td>\n",
       "      <td>2</td>\n",
       "    </tr>\n",
       "    <tr>\n",
       "      <th>trial_lie_004.mp4</th>\n",
       "      <td>Amanda Hayes</td>\n",
       "      <td>True</td>\n",
       "      <td>3</td>\n",
       "    </tr>\n",
       "    <tr>\n",
       "      <th>trial_lie_005.mp4</th>\n",
       "      <td>Amanda Hayes</td>\n",
       "      <td>True</td>\n",
       "      <td>4</td>\n",
       "    </tr>\n",
       "  </tbody>\n",
       "</table>\n",
       "</div>"
      ],
      "text/plain": [
       "                          level_2  lie/truth  video\n",
       "level_1                                            \n",
       " trial_lie_001.mp4   Amanda Hayes       True      0\n",
       " trial_lie_002.mp4   Amanda Hayes       True      1\n",
       " trial_lie_003.mp4   Amanda Hayes       True      2\n",
       " trial_lie_004.mp4   Amanda Hayes       True      3\n",
       " trial_lie_005.mp4   Amanda Hayes       True      4"
      ]
     },
     "execution_count": 99,
     "metadata": {},
     "output_type": "execute_result"
    }
   ],
   "source": [
    "subjects.head()"
   ]
  },
  {
   "cell_type": "code",
   "execution_count": 102,
   "metadata": {},
   "outputs": [],
   "source": [
    "subjects['Truth'] = 0\n",
    "subjects.loc[subjects['lie/truth'], 'Truth'] = 1\n",
    "\n",
    "subjects['Deception'] = 1\n",
    "subjects.loc[subjects['lie/truth'], 'Deception'] = 0"
   ]
  },
  {
   "cell_type": "code",
   "execution_count": 117,
   "metadata": {},
   "outputs": [
    {
     "data": {
      "text/plain": [
       "<matplotlib.text.Text at 0x1a1bcc0358>"
      ]
     },
     "execution_count": 117,
     "metadata": {},
     "output_type": "execute_result"
    },
    {
     "data": {
      "image/png": "[encoded data removed]",
      "text/plain": [
       "<matplotlib.figure.Figure at 0x1a1bb503c8>"
      ]
     },
     "metadata": {},
     "output_type": "display_data"
    }
   ],
   "source": [
    "subjects.groupby('level_2')[['Truth', 'Deception']].sum().plot(kind='bar', stacked=True, figsize=(10, 5))\n",
    "plt.xlabel('')\n",
    "plt.ylabel('Occurences')\n",
    "plt.title('Occurences by person')"
   ]
  }
 ],
 "metadata": {
  "kernelspec": {
   "display_name": "Python [conda env:ada]",
   "language": "python",
   "name": "conda-env-ada-py"
  },
  "language_info": {
   "codemirror_mode": {
    "name": "ipython",
    "version": 3
   },
   "file_extension": ".py",
   "mimetype": "text/x-python",
   "name": "python",
   "nbconvert_exporter": "python",
   "pygments_lexer": "ipython3",
   "version": "3.5.4"
  }
 },
 "nbformat": 4,
 "nbformat_minor": 2
}
